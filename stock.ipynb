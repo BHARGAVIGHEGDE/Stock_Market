{
  "nbformat": 4,
  "nbformat_minor": 0,
  "metadata": {
    "colab": {
      "provenance": [],
      "authorship_tag": "ABX9TyPdZAOOOfAgvElnNLVlISPi",
      "include_colab_link": true
    },
    "kernelspec": {
      "name": "python3",
      "display_name": "Python 3"
    },
    "language_info": {
      "name": "python"
    }
  },
  "cells": [
    {
      "cell_type": "markdown",
      "metadata": {
        "id": "view-in-github",
        "colab_type": "text"
      },
      "source": [
        "<a href=\"https://colab.research.google.com/github/BHARGAVIGHEGDE/Stock_Market/blob/main/stock.ipynb\" target=\"_parent\"><img src=\"https://colab.research.google.com/assets/colab-badge.svg\" alt=\"Open In Colab\"/></a>"
      ]
    },
    {
      "cell_type": "code",
      "source": [
        "#installing packages for matplotlib\n",
        "!pip install matplotlib-venn\n"
      ],
      "metadata": {
        "id": "YSyP6FMmYjkZ",
        "colab": {
          "base_uri": "https://localhost:8080/"
        },
        "outputId": "d61a6c99-718e-4039-ce85-915ce80114c2"
      },
      "execution_count": null,
      "outputs": [
        {
          "output_type": "stream",
          "name": "stdout",
          "text": [
            "Requirement already satisfied: matplotlib-venn in /usr/local/lib/python3.10/dist-packages (0.11.9)\n",
            "Requirement already satisfied: matplotlib in /usr/local/lib/python3.10/dist-packages (from matplotlib-venn) (3.7.1)\n",
            "Requirement already satisfied: numpy in /usr/local/lib/python3.10/dist-packages (from matplotlib-venn) (1.22.4)\n",
            "Requirement already satisfied: scipy in /usr/local/lib/python3.10/dist-packages (from matplotlib-venn) (1.10.1)\n",
            "Requirement already satisfied: contourpy>=1.0.1 in /usr/local/lib/python3.10/dist-packages (from matplotlib->matplotlib-venn) (1.1.0)\n",
            "Requirement already satisfied: cycler>=0.10 in /usr/local/lib/python3.10/dist-packages (from matplotlib->matplotlib-venn) (0.11.0)\n",
            "Requirement already satisfied: fonttools>=4.22.0 in /usr/local/lib/python3.10/dist-packages (from matplotlib->matplotlib-venn) (4.41.0)\n",
            "Requirement already satisfied: kiwisolver>=1.0.1 in /usr/local/lib/python3.10/dist-packages (from matplotlib->matplotlib-venn) (1.4.4)\n",
            "Requirement already satisfied: packaging>=20.0 in /usr/local/lib/python3.10/dist-packages (from matplotlib->matplotlib-venn) (23.1)\n",
            "Requirement already satisfied: pillow>=6.2.0 in /usr/local/lib/python3.10/dist-packages (from matplotlib->matplotlib-venn) (8.4.0)\n",
            "Requirement already satisfied: pyparsing>=2.3.1 in /usr/local/lib/python3.10/dist-packages (from matplotlib->matplotlib-venn) (3.1.0)\n",
            "Requirement already satisfied: python-dateutil>=2.7 in /usr/local/lib/python3.10/dist-packages (from matplotlib->matplotlib-venn) (2.8.2)\n",
            "Requirement already satisfied: six>=1.5 in /usr/local/lib/python3.10/dist-packages (from python-dateutil>=2.7->matplotlib->matplotlib-venn) (1.16.0)\n"
          ]
        }
      ]
    },
    {
      "cell_type": "code",
      "source": [
        "#installing the packages to plot the graph\n",
        "!apt-get -qq install -y libfluidsynth1"
      ],
      "metadata": {
        "id": "mPrE_s9gYonc",
        "colab": {
          "base_uri": "https://localhost:8080/"
        },
        "outputId": "a6b8b324-8228-4164-a7a3-61cfac83b5f0"
      },
      "execution_count": null,
      "outputs": [
        {
          "output_type": "stream",
          "name": "stdout",
          "text": [
            "E: Package 'libfluidsynth1' has no installation candidate\n"
          ]
        }
      ]
    },
    {
      "cell_type": "markdown",
      "source": [],
      "metadata": {
        "id": "iuB1ROdXzCOJ"
      }
    },
    {
      "cell_type": "code",
      "source": [
        "#installing the packages to visualize the graph\n",
        "!pip install chart_studio"
      ],
      "metadata": {
        "id": "bXGr4ppLZkIl",
        "colab": {
          "base_uri": "https://localhost:8080/"
        },
        "outputId": "644c9f78-784c-44db-d9e4-05618516feb3"
      },
      "execution_count": null,
      "outputs": [
        {
          "output_type": "stream",
          "name": "stdout",
          "text": [
            "Collecting chart_studio\n",
            "  Downloading chart_studio-1.1.0-py3-none-any.whl (64 kB)\n",
            "\u001b[2K     \u001b[90m━━━━━━━━━━━━━━━━━━━━━━━━━━━━━━━━━━━━━━━━\u001b[0m \u001b[32m64.4/64.4 kB\u001b[0m \u001b[31m1.2 MB/s\u001b[0m eta \u001b[36m0:00:00\u001b[0m\n",
            "\u001b[?25hRequirement already satisfied: plotly in /usr/local/lib/python3.10/dist-packages (from chart_studio) (5.13.1)\n",
            "Requirement already satisfied: requests in /usr/local/lib/python3.10/dist-packages (from chart_studio) (2.27.1)\n",
            "Collecting retrying>=1.3.3 (from chart_studio)\n",
            "  Downloading retrying-1.3.4-py3-none-any.whl (11 kB)\n",
            "Requirement already satisfied: six in /usr/local/lib/python3.10/dist-packages (from chart_studio) (1.16.0)\n",
            "Requirement already satisfied: tenacity>=6.2.0 in /usr/local/lib/python3.10/dist-packages (from plotly->chart_studio) (8.2.2)\n",
            "Requirement already satisfied: urllib3<1.27,>=1.21.1 in /usr/local/lib/python3.10/dist-packages (from requests->chart_studio) (1.26.16)\n",
            "Requirement already satisfied: certifi>=2017.4.17 in /usr/local/lib/python3.10/dist-packages (from requests->chart_studio) (2023.5.7)\n",
            "Requirement already satisfied: charset-normalizer~=2.0.0 in /usr/local/lib/python3.10/dist-packages (from requests->chart_studio) (2.0.12)\n",
            "Requirement already satisfied: idna<4,>=2.5 in /usr/local/lib/python3.10/dist-packages (from requests->chart_studio) (3.4)\n",
            "Installing collected packages: retrying, chart_studio\n",
            "Successfully installed chart_studio-1.1.0 retrying-1.3.4\n"
          ]
        }
      ]
    },
    {
      "cell_type": "code",
      "source": [
        "!pip install --upgrade plotly"
      ],
      "metadata": {
        "id": "3o-fFDuyaDzu",
        "colab": {
          "base_uri": "https://localhost:8080/"
        },
        "outputId": "efd15023-582c-40c0-9656-41cbe647244b"
      },
      "execution_count": null,
      "outputs": [
        {
          "output_type": "stream",
          "name": "stdout",
          "text": [
            "Requirement already satisfied: plotly in /usr/local/lib/python3.10/dist-packages (5.13.1)\n",
            "Collecting plotly\n",
            "  Downloading plotly-5.15.0-py2.py3-none-any.whl (15.5 MB)\n",
            "\u001b[2K     \u001b[90m━━━━━━━━━━━━━━━━━━━━━━━━━━━━━━━━━━━━━━━━\u001b[0m \u001b[32m15.5/15.5 MB\u001b[0m \u001b[31m58.4 MB/s\u001b[0m eta \u001b[36m0:00:00\u001b[0m\n",
            "\u001b[?25hRequirement already satisfied: tenacity>=6.2.0 in /usr/local/lib/python3.10/dist-packages (from plotly) (8.2.2)\n",
            "Requirement already satisfied: packaging in /usr/local/lib/python3.10/dist-packages (from plotly) (23.1)\n",
            "Installing collected packages: plotly\n",
            "  Attempting uninstall: plotly\n",
            "    Found existing installation: plotly 5.13.1\n",
            "    Uninstalling plotly-5.13.1:\n",
            "      Successfully uninstalled plotly-5.13.1\n",
            "Successfully installed plotly-5.15.0\n"
          ]
        }
      ]
    },
    {
      "cell_type": "code",
      "execution_count": null,
      "metadata": {
        "id": "fJ0TQS38SJ1S",
        "colab": {
          "base_uri": "https://localhost:8080/",
          "height": 17
        },
        "outputId": "53e0d951-1339-4bfa-a722-5be1ca7d571b"
      },
      "outputs": [
        {
          "output_type": "display_data",
          "data": {
            "text/html": [
              "        <script type=\"text/javascript\">\n",
              "        window.PlotlyConfig = {MathJaxConfig: 'local'};\n",
              "        if (window.MathJax && window.MathJax.Hub && window.MathJax.Hub.Config) {window.MathJax.Hub.Config({SVG: {font: \"STIX-Web\"}});}\n",
              "        if (typeof require !== 'undefined') {\n",
              "        require.undef(\"plotly\");\n",
              "        requirejs.config({\n",
              "            paths: {\n",
              "                'plotly': ['https://cdn.plot.ly/plotly-2.24.1.min']\n",
              "            }\n",
              "        });\n",
              "        require(['plotly'], function(Plotly) {\n",
              "            window._Plotly = Plotly;\n",
              "        });\n",
              "        }\n",
              "        </script>\n",
              "        "
            ]
          },
          "metadata": {}
        }
      ],
      "source": [
        "#importingthe required libraries\n",
        "import pandas as pd\n",
        "import numpy as np\n",
        "import matplotlib.pyplot as plt\n",
        "%matplotlib inline\n",
        "import chart_studio.plotly as py\n",
        "from plotly.offline import plot\n",
        "import plotly.graph_objs as go\n",
        "from plotly.offline import init_notebook_mode,plot,iplot\n",
        "init_notebook_mode(connected=True)"
      ]
    },
    {
      "cell_type": "code",
      "source": [],
      "metadata": {
        "id": "0FdCwhss15cM"
      },
      "execution_count": null,
      "outputs": []
    },
    {
      "cell_type": "code",
      "source": [
        "#loading the dataset\n",
        "stock=pd.read_csv('/content/VEDL.NS.csv')"
      ],
      "metadata": {
        "id": "SqVrq8XXSuXh"
      },
      "execution_count": null,
      "outputs": []
    },
    {
      "cell_type": "code",
      "source": [
        "#to view the information of the dataset to view if it contains null values or not\n",
        "stock.info()"
      ],
      "metadata": {
        "id": "8760YkpiS7ve",
        "colab": {
          "base_uri": "https://localhost:8080/"
        },
        "outputId": "0060f553-6b43-48ef-819d-a37551d66d4b"
      },
      "execution_count": null,
      "outputs": [
        {
          "output_type": "stream",
          "name": "stdout",
          "text": [
            "<class 'pandas.core.frame.DataFrame'>\n",
            "RangeIndex: 1234 entries, 0 to 1233\n",
            "Data columns (total 7 columns):\n",
            " #   Column     Non-Null Count  Dtype  \n",
            "---  ------     --------------  -----  \n",
            " 0   Date       1234 non-null   object \n",
            " 1   Open       1234 non-null   float64\n",
            " 2   High       1234 non-null   float64\n",
            " 3   Low        1234 non-null   float64\n",
            " 4   Close      1234 non-null   float64\n",
            " 5   Adj Close  1234 non-null   float64\n",
            " 6   Volume     1234 non-null   int64  \n",
            "dtypes: float64(5), int64(1), object(1)\n",
            "memory usage: 67.6+ KB\n"
          ]
        }
      ]
    },
    {
      "cell_type": "code",
      "source": [
        "#to view the top 5 rows in the dataset\n",
        "stock.head()\n"
      ],
      "metadata": {
        "id": "1gvVl8KpS_NB",
        "colab": {
          "base_uri": "https://localhost:8080/",
          "height": 206
        },
        "outputId": "17221107-e31e-4f0f-d2e0-6d72d0530bec"
      },
      "execution_count": null,
      "outputs": [
        {
          "output_type": "execute_result",
          "data": {
            "text/plain": [
              "         Date        Open        High         Low       Close   Adj Close  \\\n",
              "0  2018-06-27  233.000000  233.250000  228.149994  230.100006  104.629082   \n",
              "1  2018-06-28  231.000000  233.600006  229.500000  230.000000  104.583633   \n",
              "2  2018-06-29  228.000000  237.850006  228.000000  236.199997  107.402832   \n",
              "3  2018-07-02  234.750000  243.800003  228.300003  239.850006  109.062515   \n",
              "4  2018-07-03  236.199997  236.199997  230.050003  231.050003  105.061073   \n",
              "\n",
              "     Volume  \n",
              "0  12766494  \n",
              "1  12656271  \n",
              "2  11526273  \n",
              "3  17820231  \n",
              "4  15851682  "
            ],
            "text/html": [
              "\n",
              "\n",
              "  <div id=\"df-5316c53d-d79f-4bcf-a358-c2e75084000a\">\n",
              "    <div class=\"colab-df-container\">\n",
              "      <div>\n",
              "<style scoped>\n",
              "    .dataframe tbody tr th:only-of-type {\n",
              "        vertical-align: middle;\n",
              "    }\n",
              "\n",
              "    .dataframe tbody tr th {\n",
              "        vertical-align: top;\n",
              "    }\n",
              "\n",
              "    .dataframe thead th {\n",
              "        text-align: right;\n",
              "    }\n",
              "</style>\n",
              "<table border=\"1\" class=\"dataframe\">\n",
              "  <thead>\n",
              "    <tr style=\"text-align: right;\">\n",
              "      <th></th>\n",
              "      <th>Date</th>\n",
              "      <th>Open</th>\n",
              "      <th>High</th>\n",
              "      <th>Low</th>\n",
              "      <th>Close</th>\n",
              "      <th>Adj Close</th>\n",
              "      <th>Volume</th>\n",
              "    </tr>\n",
              "  </thead>\n",
              "  <tbody>\n",
              "    <tr>\n",
              "      <th>0</th>\n",
              "      <td>2018-06-27</td>\n",
              "      <td>233.000000</td>\n",
              "      <td>233.250000</td>\n",
              "      <td>228.149994</td>\n",
              "      <td>230.100006</td>\n",
              "      <td>104.629082</td>\n",
              "      <td>12766494</td>\n",
              "    </tr>\n",
              "    <tr>\n",
              "      <th>1</th>\n",
              "      <td>2018-06-28</td>\n",
              "      <td>231.000000</td>\n",
              "      <td>233.600006</td>\n",
              "      <td>229.500000</td>\n",
              "      <td>230.000000</td>\n",
              "      <td>104.583633</td>\n",
              "      <td>12656271</td>\n",
              "    </tr>\n",
              "    <tr>\n",
              "      <th>2</th>\n",
              "      <td>2018-06-29</td>\n",
              "      <td>228.000000</td>\n",
              "      <td>237.850006</td>\n",
              "      <td>228.000000</td>\n",
              "      <td>236.199997</td>\n",
              "      <td>107.402832</td>\n",
              "      <td>11526273</td>\n",
              "    </tr>\n",
              "    <tr>\n",
              "      <th>3</th>\n",
              "      <td>2018-07-02</td>\n",
              "      <td>234.750000</td>\n",
              "      <td>243.800003</td>\n",
              "      <td>228.300003</td>\n",
              "      <td>239.850006</td>\n",
              "      <td>109.062515</td>\n",
              "      <td>17820231</td>\n",
              "    </tr>\n",
              "    <tr>\n",
              "      <th>4</th>\n",
              "      <td>2018-07-03</td>\n",
              "      <td>236.199997</td>\n",
              "      <td>236.199997</td>\n",
              "      <td>230.050003</td>\n",
              "      <td>231.050003</td>\n",
              "      <td>105.061073</td>\n",
              "      <td>15851682</td>\n",
              "    </tr>\n",
              "  </tbody>\n",
              "</table>\n",
              "</div>\n",
              "      <button class=\"colab-df-convert\" onclick=\"convertToInteractive('df-5316c53d-d79f-4bcf-a358-c2e75084000a')\"\n",
              "              title=\"Convert this dataframe to an interactive table.\"\n",
              "              style=\"display:none;\">\n",
              "\n",
              "  <svg xmlns=\"http://www.w3.org/2000/svg\" height=\"24px\"viewBox=\"0 0 24 24\"\n",
              "       width=\"24px\">\n",
              "    <path d=\"M0 0h24v24H0V0z\" fill=\"none\"/>\n",
              "    <path d=\"M18.56 5.44l.94 2.06.94-2.06 2.06-.94-2.06-.94-.94-2.06-.94 2.06-2.06.94zm-11 1L8.5 8.5l.94-2.06 2.06-.94-2.06-.94L8.5 2.5l-.94 2.06-2.06.94zm10 10l.94 2.06.94-2.06 2.06-.94-2.06-.94-.94-2.06-.94 2.06-2.06.94z\"/><path d=\"M17.41 7.96l-1.37-1.37c-.4-.4-.92-.59-1.43-.59-.52 0-1.04.2-1.43.59L10.3 9.45l-7.72 7.72c-.78.78-.78 2.05 0 2.83L4 21.41c.39.39.9.59 1.41.59.51 0 1.02-.2 1.41-.59l7.78-7.78 2.81-2.81c.8-.78.8-2.07 0-2.86zM5.41 20L4 18.59l7.72-7.72 1.47 1.35L5.41 20z\"/>\n",
              "  </svg>\n",
              "      </button>\n",
              "\n",
              "\n",
              "\n",
              "    <div id=\"df-04793609-a048-4112-b544-42ca4a7e5990\">\n",
              "      <button class=\"colab-df-quickchart\" onclick=\"quickchart('df-04793609-a048-4112-b544-42ca4a7e5990')\"\n",
              "              title=\"Suggest charts.\"\n",
              "              style=\"display:none;\">\n",
              "\n",
              "<svg xmlns=\"http://www.w3.org/2000/svg\" height=\"24px\"viewBox=\"0 0 24 24\"\n",
              "     width=\"24px\">\n",
              "    <g>\n",
              "        <path d=\"M19 3H5c-1.1 0-2 .9-2 2v14c0 1.1.9 2 2 2h14c1.1 0 2-.9 2-2V5c0-1.1-.9-2-2-2zM9 17H7v-7h2v7zm4 0h-2V7h2v10zm4 0h-2v-4h2v4z\"/>\n",
              "    </g>\n",
              "</svg>\n",
              "      </button>\n",
              "    </div>\n",
              "\n",
              "<style>\n",
              "  .colab-df-quickchart {\n",
              "    background-color: #E8F0FE;\n",
              "    border: none;\n",
              "    border-radius: 50%;\n",
              "    cursor: pointer;\n",
              "    display: none;\n",
              "    fill: #1967D2;\n",
              "    height: 32px;\n",
              "    padding: 0 0 0 0;\n",
              "    width: 32px;\n",
              "  }\n",
              "\n",
              "  .colab-df-quickchart:hover {\n",
              "    background-color: #E2EBFA;\n",
              "    box-shadow: 0px 1px 2px rgba(60, 64, 67, 0.3), 0px 1px 3px 1px rgba(60, 64, 67, 0.15);\n",
              "    fill: #174EA6;\n",
              "  }\n",
              "\n",
              "  [theme=dark] .colab-df-quickchart {\n",
              "    background-color: #3B4455;\n",
              "    fill: #D2E3FC;\n",
              "  }\n",
              "\n",
              "  [theme=dark] .colab-df-quickchart:hover {\n",
              "    background-color: #434B5C;\n",
              "    box-shadow: 0px 1px 3px 1px rgba(0, 0, 0, 0.15);\n",
              "    filter: drop-shadow(0px 1px 2px rgba(0, 0, 0, 0.3));\n",
              "    fill: #FFFFFF;\n",
              "  }\n",
              "</style>\n",
              "\n",
              "    <script>\n",
              "      async function quickchart(key) {\n",
              "        const containerElement = document.querySelector('#' + key);\n",
              "        const charts = await google.colab.kernel.invokeFunction(\n",
              "            'suggestCharts', [key], {});\n",
              "      }\n",
              "    </script>\n",
              "\n",
              "      <script>\n",
              "\n",
              "function displayQuickchartButton(domScope) {\n",
              "  let quickchartButtonEl =\n",
              "    domScope.querySelector('#df-04793609-a048-4112-b544-42ca4a7e5990 button.colab-df-quickchart');\n",
              "  quickchartButtonEl.style.display =\n",
              "    google.colab.kernel.accessAllowed ? 'block' : 'none';\n",
              "}\n",
              "\n",
              "        displayQuickchartButton(document);\n",
              "      </script>\n",
              "      <style>\n",
              "    .colab-df-container {\n",
              "      display:flex;\n",
              "      flex-wrap:wrap;\n",
              "      gap: 12px;\n",
              "    }\n",
              "\n",
              "    .colab-df-convert {\n",
              "      background-color: #E8F0FE;\n",
              "      border: none;\n",
              "      border-radius: 50%;\n",
              "      cursor: pointer;\n",
              "      display: none;\n",
              "      fill: #1967D2;\n",
              "      height: 32px;\n",
              "      padding: 0 0 0 0;\n",
              "      width: 32px;\n",
              "    }\n",
              "\n",
              "    .colab-df-convert:hover {\n",
              "      background-color: #E2EBFA;\n",
              "      box-shadow: 0px 1px 2px rgba(60, 64, 67, 0.3), 0px 1px 3px 1px rgba(60, 64, 67, 0.15);\n",
              "      fill: #174EA6;\n",
              "    }\n",
              "\n",
              "    [theme=dark] .colab-df-convert {\n",
              "      background-color: #3B4455;\n",
              "      fill: #D2E3FC;\n",
              "    }\n",
              "\n",
              "    [theme=dark] .colab-df-convert:hover {\n",
              "      background-color: #434B5C;\n",
              "      box-shadow: 0px 1px 3px 1px rgba(0, 0, 0, 0.15);\n",
              "      filter: drop-shadow(0px 1px 2px rgba(0, 0, 0, 0.3));\n",
              "      fill: #FFFFFF;\n",
              "    }\n",
              "  </style>\n",
              "\n",
              "      <script>\n",
              "        const buttonEl =\n",
              "          document.querySelector('#df-5316c53d-d79f-4bcf-a358-c2e75084000a button.colab-df-convert');\n",
              "        buttonEl.style.display =\n",
              "          google.colab.kernel.accessAllowed ? 'block' : 'none';\n",
              "\n",
              "        async function convertToInteractive(key) {\n",
              "          const element = document.querySelector('#df-5316c53d-d79f-4bcf-a358-c2e75084000a');\n",
              "          const dataTable =\n",
              "            await google.colab.kernel.invokeFunction('convertToInteractive',\n",
              "                                                     [key], {});\n",
              "          if (!dataTable) return;\n",
              "\n",
              "          const docLinkHtml = 'Like what you see? Visit the ' +\n",
              "            '<a target=\"_blank\" href=https://colab.research.google.com/notebooks/data_table.ipynb>data table notebook</a>'\n",
              "            + ' to learn more about interactive tables.';\n",
              "          element.innerHTML = '';\n",
              "          dataTable['output_type'] = 'display_data';\n",
              "          await google.colab.output.renderOutput(dataTable, element);\n",
              "          const docLink = document.createElement('div');\n",
              "          docLink.innerHTML = docLinkHtml;\n",
              "          element.appendChild(docLink);\n",
              "        }\n",
              "      </script>\n",
              "    </div>\n",
              "  </div>\n"
            ]
          },
          "metadata": {},
          "execution_count": 8
        }
      ]
    },
    {
      "cell_type": "code",
      "source": [
        "#changing the  date format to datetime format\n",
        "stock['Date']=pd.to_datetime(stock['Date'])"
      ],
      "metadata": {
        "id": "mNzmn2CCTGYE"
      },
      "execution_count": null,
      "outputs": []
    },
    {
      "cell_type": "code",
      "source": [
        "#to describe the details of the dataset\n",
        "stock.describe()"
      ],
      "metadata": {
        "id": "DgLUPRGhTQIM",
        "colab": {
          "base_uri": "https://localhost:8080/",
          "height": 300
        },
        "outputId": "b255f0c0-3901-4b7e-e93e-a15e09692b71"
      },
      "execution_count": null,
      "outputs": [
        {
          "output_type": "execute_result",
          "data": {
            "text/plain": [
              "              Open         High          Low        Close    Adj Close  \\\n",
              "count  1234.000000  1234.000000  1234.000000  1234.000000  1234.000000   \n",
              "mean    222.702958   226.391329   218.559968   222.399919   141.280017   \n",
              "std      84.326232    85.474597    82.967188    84.245861    76.406322   \n",
              "min      61.799999    62.900002    60.200001    61.549999    31.655159   \n",
              "25%     151.012501   153.825001   147.687496   150.562504    75.912090   \n",
              "50%     218.500000   223.424995   215.175003   218.900002   103.617356   \n",
              "75%     288.175010   293.575004   283.337494   287.600006   213.478645   \n",
              "max     434.000000   440.750000   430.450012   437.750000   295.088593   \n",
              "\n",
              "             Volume  \n",
              "count  1.234000e+03  \n",
              "mean   1.691091e+07  \n",
              "std    1.854741e+07  \n",
              "min    1.607171e+06  \n",
              "25%    8.501214e+06  \n",
              "50%    1.218923e+07  \n",
              "75%    1.893248e+07  \n",
              "max    3.333412e+08  "
            ],
            "text/html": [
              "\n",
              "\n",
              "  <div id=\"df-74b44096-28d0-48ca-9faf-0356f400059f\">\n",
              "    <div class=\"colab-df-container\">\n",
              "      <div>\n",
              "<style scoped>\n",
              "    .dataframe tbody tr th:only-of-type {\n",
              "        vertical-align: middle;\n",
              "    }\n",
              "\n",
              "    .dataframe tbody tr th {\n",
              "        vertical-align: top;\n",
              "    }\n",
              "\n",
              "    .dataframe thead th {\n",
              "        text-align: right;\n",
              "    }\n",
              "</style>\n",
              "<table border=\"1\" class=\"dataframe\">\n",
              "  <thead>\n",
              "    <tr style=\"text-align: right;\">\n",
              "      <th></th>\n",
              "      <th>Open</th>\n",
              "      <th>High</th>\n",
              "      <th>Low</th>\n",
              "      <th>Close</th>\n",
              "      <th>Adj Close</th>\n",
              "      <th>Volume</th>\n",
              "    </tr>\n",
              "  </thead>\n",
              "  <tbody>\n",
              "    <tr>\n",
              "      <th>count</th>\n",
              "      <td>1234.000000</td>\n",
              "      <td>1234.000000</td>\n",
              "      <td>1234.000000</td>\n",
              "      <td>1234.000000</td>\n",
              "      <td>1234.000000</td>\n",
              "      <td>1.234000e+03</td>\n",
              "    </tr>\n",
              "    <tr>\n",
              "      <th>mean</th>\n",
              "      <td>222.702958</td>\n",
              "      <td>226.391329</td>\n",
              "      <td>218.559968</td>\n",
              "      <td>222.399919</td>\n",
              "      <td>141.280017</td>\n",
              "      <td>1.691091e+07</td>\n",
              "    </tr>\n",
              "    <tr>\n",
              "      <th>std</th>\n",
              "      <td>84.326232</td>\n",
              "      <td>85.474597</td>\n",
              "      <td>82.967188</td>\n",
              "      <td>84.245861</td>\n",
              "      <td>76.406322</td>\n",
              "      <td>1.854741e+07</td>\n",
              "    </tr>\n",
              "    <tr>\n",
              "      <th>min</th>\n",
              "      <td>61.799999</td>\n",
              "      <td>62.900002</td>\n",
              "      <td>60.200001</td>\n",
              "      <td>61.549999</td>\n",
              "      <td>31.655159</td>\n",
              "      <td>1.607171e+06</td>\n",
              "    </tr>\n",
              "    <tr>\n",
              "      <th>25%</th>\n",
              "      <td>151.012501</td>\n",
              "      <td>153.825001</td>\n",
              "      <td>147.687496</td>\n",
              "      <td>150.562504</td>\n",
              "      <td>75.912090</td>\n",
              "      <td>8.501214e+06</td>\n",
              "    </tr>\n",
              "    <tr>\n",
              "      <th>50%</th>\n",
              "      <td>218.500000</td>\n",
              "      <td>223.424995</td>\n",
              "      <td>215.175003</td>\n",
              "      <td>218.900002</td>\n",
              "      <td>103.617356</td>\n",
              "      <td>1.218923e+07</td>\n",
              "    </tr>\n",
              "    <tr>\n",
              "      <th>75%</th>\n",
              "      <td>288.175010</td>\n",
              "      <td>293.575004</td>\n",
              "      <td>283.337494</td>\n",
              "      <td>287.600006</td>\n",
              "      <td>213.478645</td>\n",
              "      <td>1.893248e+07</td>\n",
              "    </tr>\n",
              "    <tr>\n",
              "      <th>max</th>\n",
              "      <td>434.000000</td>\n",
              "      <td>440.750000</td>\n",
              "      <td>430.450012</td>\n",
              "      <td>437.750000</td>\n",
              "      <td>295.088593</td>\n",
              "      <td>3.333412e+08</td>\n",
              "    </tr>\n",
              "  </tbody>\n",
              "</table>\n",
              "</div>\n",
              "      <button class=\"colab-df-convert\" onclick=\"convertToInteractive('df-74b44096-28d0-48ca-9faf-0356f400059f')\"\n",
              "              title=\"Convert this dataframe to an interactive table.\"\n",
              "              style=\"display:none;\">\n",
              "\n",
              "  <svg xmlns=\"http://www.w3.org/2000/svg\" height=\"24px\"viewBox=\"0 0 24 24\"\n",
              "       width=\"24px\">\n",
              "    <path d=\"M0 0h24v24H0V0z\" fill=\"none\"/>\n",
              "    <path d=\"M18.56 5.44l.94 2.06.94-2.06 2.06-.94-2.06-.94-.94-2.06-.94 2.06-2.06.94zm-11 1L8.5 8.5l.94-2.06 2.06-.94-2.06-.94L8.5 2.5l-.94 2.06-2.06.94zm10 10l.94 2.06.94-2.06 2.06-.94-2.06-.94-.94-2.06-.94 2.06-2.06.94z\"/><path d=\"M17.41 7.96l-1.37-1.37c-.4-.4-.92-.59-1.43-.59-.52 0-1.04.2-1.43.59L10.3 9.45l-7.72 7.72c-.78.78-.78 2.05 0 2.83L4 21.41c.39.39.9.59 1.41.59.51 0 1.02-.2 1.41-.59l7.78-7.78 2.81-2.81c.8-.78.8-2.07 0-2.86zM5.41 20L4 18.59l7.72-7.72 1.47 1.35L5.41 20z\"/>\n",
              "  </svg>\n",
              "      </button>\n",
              "\n",
              "\n",
              "\n",
              "    <div id=\"df-10a390f7-4765-418c-a123-85f38815c214\">\n",
              "      <button class=\"colab-df-quickchart\" onclick=\"quickchart('df-10a390f7-4765-418c-a123-85f38815c214')\"\n",
              "              title=\"Suggest charts.\"\n",
              "              style=\"display:none;\">\n",
              "\n",
              "<svg xmlns=\"http://www.w3.org/2000/svg\" height=\"24px\"viewBox=\"0 0 24 24\"\n",
              "     width=\"24px\">\n",
              "    <g>\n",
              "        <path d=\"M19 3H5c-1.1 0-2 .9-2 2v14c0 1.1.9 2 2 2h14c1.1 0 2-.9 2-2V5c0-1.1-.9-2-2-2zM9 17H7v-7h2v7zm4 0h-2V7h2v10zm4 0h-2v-4h2v4z\"/>\n",
              "    </g>\n",
              "</svg>\n",
              "      </button>\n",
              "    </div>\n",
              "\n",
              "<style>\n",
              "  .colab-df-quickchart {\n",
              "    background-color: #E8F0FE;\n",
              "    border: none;\n",
              "    border-radius: 50%;\n",
              "    cursor: pointer;\n",
              "    display: none;\n",
              "    fill: #1967D2;\n",
              "    height: 32px;\n",
              "    padding: 0 0 0 0;\n",
              "    width: 32px;\n",
              "  }\n",
              "\n",
              "  .colab-df-quickchart:hover {\n",
              "    background-color: #E2EBFA;\n",
              "    box-shadow: 0px 1px 2px rgba(60, 64, 67, 0.3), 0px 1px 3px 1px rgba(60, 64, 67, 0.15);\n",
              "    fill: #174EA6;\n",
              "  }\n",
              "\n",
              "  [theme=dark] .colab-df-quickchart {\n",
              "    background-color: #3B4455;\n",
              "    fill: #D2E3FC;\n",
              "  }\n",
              "\n",
              "  [theme=dark] .colab-df-quickchart:hover {\n",
              "    background-color: #434B5C;\n",
              "    box-shadow: 0px 1px 3px 1px rgba(0, 0, 0, 0.15);\n",
              "    filter: drop-shadow(0px 1px 2px rgba(0, 0, 0, 0.3));\n",
              "    fill: #FFFFFF;\n",
              "  }\n",
              "</style>\n",
              "\n",
              "    <script>\n",
              "      async function quickchart(key) {\n",
              "        const containerElement = document.querySelector('#' + key);\n",
              "        const charts = await google.colab.kernel.invokeFunction(\n",
              "            'suggestCharts', [key], {});\n",
              "      }\n",
              "    </script>\n",
              "\n",
              "      <script>\n",
              "\n",
              "function displayQuickchartButton(domScope) {\n",
              "  let quickchartButtonEl =\n",
              "    domScope.querySelector('#df-10a390f7-4765-418c-a123-85f38815c214 button.colab-df-quickchart');\n",
              "  quickchartButtonEl.style.display =\n",
              "    google.colab.kernel.accessAllowed ? 'block' : 'none';\n",
              "}\n",
              "\n",
              "        displayQuickchartButton(document);\n",
              "      </script>\n",
              "      <style>\n",
              "    .colab-df-container {\n",
              "      display:flex;\n",
              "      flex-wrap:wrap;\n",
              "      gap: 12px;\n",
              "    }\n",
              "\n",
              "    .colab-df-convert {\n",
              "      background-color: #E8F0FE;\n",
              "      border: none;\n",
              "      border-radius: 50%;\n",
              "      cursor: pointer;\n",
              "      display: none;\n",
              "      fill: #1967D2;\n",
              "      height: 32px;\n",
              "      padding: 0 0 0 0;\n",
              "      width: 32px;\n",
              "    }\n",
              "\n",
              "    .colab-df-convert:hover {\n",
              "      background-color: #E2EBFA;\n",
              "      box-shadow: 0px 1px 2px rgba(60, 64, 67, 0.3), 0px 1px 3px 1px rgba(60, 64, 67, 0.15);\n",
              "      fill: #174EA6;\n",
              "    }\n",
              "\n",
              "    [theme=dark] .colab-df-convert {\n",
              "      background-color: #3B4455;\n",
              "      fill: #D2E3FC;\n",
              "    }\n",
              "\n",
              "    [theme=dark] .colab-df-convert:hover {\n",
              "      background-color: #434B5C;\n",
              "      box-shadow: 0px 1px 3px 1px rgba(0, 0, 0, 0.15);\n",
              "      filter: drop-shadow(0px 1px 2px rgba(0, 0, 0, 0.3));\n",
              "      fill: #FFFFFF;\n",
              "    }\n",
              "  </style>\n",
              "\n",
              "      <script>\n",
              "        const buttonEl =\n",
              "          document.querySelector('#df-74b44096-28d0-48ca-9faf-0356f400059f button.colab-df-convert');\n",
              "        buttonEl.style.display =\n",
              "          google.colab.kernel.accessAllowed ? 'block' : 'none';\n",
              "\n",
              "        async function convertToInteractive(key) {\n",
              "          const element = document.querySelector('#df-74b44096-28d0-48ca-9faf-0356f400059f');\n",
              "          const dataTable =\n",
              "            await google.colab.kernel.invokeFunction('convertToInteractive',\n",
              "                                                     [key], {});\n",
              "          if (!dataTable) return;\n",
              "\n",
              "          const docLinkHtml = 'Like what you see? Visit the ' +\n",
              "            '<a target=\"_blank\" href=https://colab.research.google.com/notebooks/data_table.ipynb>data table notebook</a>'\n",
              "            + ' to learn more about interactive tables.';\n",
              "          element.innerHTML = '';\n",
              "          dataTable['output_type'] = 'display_data';\n",
              "          await google.colab.output.renderOutput(dataTable, element);\n",
              "          const docLink = document.createElement('div');\n",
              "          docLink.innerHTML = docLinkHtml;\n",
              "          element.appendChild(docLink);\n",
              "        }\n",
              "      </script>\n",
              "    </div>\n",
              "  </div>\n"
            ]
          },
          "metadata": {},
          "execution_count": 10
        }
      ]
    },
    {
      "cell_type": "code",
      "source": [
        "#to view the max and min date of the stock values\n",
        "print(f'Dataset contains stock prices between {stock.Date.min()} {stock.Date.max()}')\n",
        "print(f'Total days ={(stock.Date.max()-stock.Date.min()).days} days'  )"
      ],
      "metadata": {
        "id": "UMgyYorSTU1b",
        "colab": {
          "base_uri": "https://localhost:8080/"
        },
        "outputId": "d899678d-a1ee-4cb0-a8d0-537d787f9dba"
      },
      "execution_count": null,
      "outputs": [
        {
          "output_type": "stream",
          "name": "stdout",
          "text": [
            "Dataset contains stock prices between 2018-06-27 00:00:00 2023-06-26 00:00:00\n",
            "Total days =1825 days\n"
          ]
        }
      ]
    },
    {
      "cell_type": "code",
      "source": [
        "#plotting the box graph for the 5 parameteres\n",
        "stock[['Open','High','Low','Close','Adj Close']].plot(kind='box')"
      ],
      "metadata": {
        "id": "RZ8NYIMlT8hl"
      },
      "execution_count": null,
      "outputs": []
    },
    {
      "cell_type": "code",
      "source": [
        "stock.dropna()"
      ],
      "metadata": {
        "id": "n9arFnJ0yraK"
      },
      "execution_count": null,
      "outputs": []
    },
    {
      "cell_type": "code",
      "source": [
        "#plotting the line graph to view the variation of stock over the years\n",
        "x=stock['Date']\n",
        "y=stock['Close']\n",
        "plt.xlabel('Date')\n",
        "plt.ylabel('Price')\n",
        "plt.plot(x,y)\n",
        "plt.title('Stock Price Of The Company')\n",
        "plt.show()"
      ],
      "metadata": {
        "colab": {
          "base_uri": "https://localhost:8080/",
          "height": 472
        },
        "id": "gyUBtV6aX155",
        "outputId": "6d4d1c6d-ddbf-48ac-8edf-2c32e71fabb7"
      },
      "execution_count": null,
      "outputs": [
        {
          "output_type": "display_data",
          "data": {
            "text/plain": [
              "<Figure size 640x480 with 1 Axes>"
            ],
            "image/png": "[encoded data removed]"
          },
          "metadata": {}
        }
      ]
    },
    {
      "cell_type": "code",
      "source": [
        "#installing the required packages for sklearn library\n",
        "!pip install sklearn"
      ],
      "metadata": {
        "id": "UwJa8nhUeSTc",
        "colab": {
          "base_uri": "https://localhost:8080/"
        },
        "outputId": "79e2d893-7438-4b89-f488-d726d85ddc34"
      },
      "execution_count": null,
      "outputs": [
        {
          "output_type": "stream",
          "name": "stdout",
          "text": [
            "Collecting sklearn\n",
            "  Downloading sklearn-0.0.post7.tar.gz (3.6 kB)\n",
            "  Preparing metadata (setup.py) ... \u001b[?25l\u001b[?25hdone\n",
            "Building wheels for collected packages: sklearn\n",
            "  Building wheel for sklearn (setup.py) ... \u001b[?25l\u001b[?25hdone\n",
            "  Created wheel for sklearn: filename=sklearn-0.0.post7-py3-none-any.whl size=2952 sha256=4463f759ad9cd82b931ed1080becc3e9822bd6f1d8c09d9c54686f35a0f0054d\n",
            "  Stored in directory: /root/.cache/pip/wheels/c8/9c/85/72901eb50bc4bc6e3b2629378d172384ea3dfd19759c77fd2c\n",
            "Successfully built sklearn\n",
            "Installing collected packages: sklearn\n",
            "Successfully installed sklearn-0.0.post7\n"
          ]
        }
      ]
    },
    {
      "cell_type": "code",
      "source": [
        "!pip install --upgrade scikit-learn"
      ],
      "metadata": {
        "id": "qJBSCKQ7usI6",
        "colab": {
          "base_uri": "https://localhost:8080/"
        },
        "outputId": "9874dd0f-abe6-45c1-e0d5-4b0510f934d3"
      },
      "execution_count": null,
      "outputs": [
        {
          "output_type": "stream",
          "name": "stdout",
          "text": [
            "Requirement already satisfied: scikit-learn in /usr/local/lib/python3.10/dist-packages (1.2.2)\n",
            "Collecting scikit-learn\n",
            "  Downloading scikit_learn-1.3.0-cp310-cp310-manylinux_2_17_x86_64.manylinux2014_x86_64.whl (10.8 MB)\n",
            "\u001b[2K     \u001b[90m━━━━━━━━━━━━━━━━━━━━━━━━━━━━━━━━━━━━━━━━\u001b[0m \u001b[32m10.8/10.8 MB\u001b[0m \u001b[31m37.6 MB/s\u001b[0m eta \u001b[36m0:00:00\u001b[0m\n",
            "\u001b[?25hRequirement already satisfied: numpy>=1.17.3 in /usr/local/lib/python3.10/dist-packages (from scikit-learn) (1.22.4)\n",
            "Requirement already satisfied: scipy>=1.5.0 in /usr/local/lib/python3.10/dist-packages (from scikit-learn) (1.10.1)\n",
            "Requirement already satisfied: joblib>=1.1.1 in /usr/local/lib/python3.10/dist-packages (from scikit-learn) (1.3.1)\n",
            "Requirement already satisfied: threadpoolctl>=2.0.0 in /usr/local/lib/python3.10/dist-packages (from scikit-learn) (3.2.0)\n",
            "Installing collected packages: scikit-learn\n",
            "  Attempting uninstall: scikit-learn\n",
            "    Found existing installation: scikit-learn 1.2.2\n",
            "    Uninstalling scikit-learn-1.2.2:\n",
            "      Successfully uninstalled scikit-learn-1.2.2\n",
            "Successfully installed scikit-learn-1.3.0\n"
          ]
        }
      ]
    },
    {
      "cell_type": "code",
      "source": [
        "#importing the required libraries\n",
        "from sklearn.model_selection import train_test_split\n",
        "from sklearn.preprocessing import MinMaxScaler\n",
        "from sklearn.preprocessing import StandardScaler\n",
        "from sklearn.metrics import r2_score"
      ],
      "metadata": {
        "id": "JYjsydgrYAzs"
      },
      "execution_count": null,
      "outputs": []
    },
    {
      "cell_type": "code",
      "source": [
        "#reshaping the data and splitting the data into train and test data\n",
        "x=np.array(stock.index).reshape(-1,1)\n",
        "y=stock['Close']\n",
        "x_train,x_test,y_train,y_test=train_test_split(x,y,test_size=0.3,random_state=101)"
      ],
      "metadata": {
        "id": "pq1Sd4RrdiHV"
      },
      "execution_count": null,
      "outputs": []
    },
    {
      "cell_type": "code",
      "source": [
        "#scaling the data to reduced format\n",
        "scaler=StandardScaler().fit(x_train)"
      ],
      "metadata": {
        "id": "YveFXumDfb_o"
      },
      "execution_count": null,
      "outputs": []
    },
    {
      "cell_type": "code",
      "source": [
        "#importing the model\n",
        "from sklearn.linear_model import LinearRegression"
      ],
      "metadata": {
        "id": "-emo25M2fhtV"
      },
      "execution_count": null,
      "outputs": []
    },
    {
      "cell_type": "code",
      "source": [
        "#calling the model and fittig the model\n",
        "lm=LinearRegression()\n",
        "lm.fit(x_train,y_train)"
      ],
      "metadata": {
        "id": "KPk6lXaihPpQ",
        "colab": {
          "base_uri": "https://localhost:8080/",
          "height": 75
        },
        "outputId": "714daba6-aaef-4ef1-e229-63f043e7d2b1"
      },
      "execution_count": null,
      "outputs": [
        {
          "output_type": "execute_result",
          "data": {
            "text/plain": [
              "LinearRegression()"
            ],
            "text/html": [
              "<style>#sk-container-id-1 {color: black;}#sk-container-id-1 pre{padding: 0;}#sk-container-id-1 div.sk-toggleable {background-color: white;}#sk-container-id-1 label.sk-toggleable__label {cursor: pointer;display: block;width: 100%;margin-bottom: 0;padding: 0.3em;box-sizing: border-box;text-align: center;}#sk-container-id-1 label.sk-toggleable__label-arrow:before {content: \"▸\";float: left;margin-right: 0.25em;color: #696969;}#sk-container-id-1 label.sk-toggleable__label-arrow:hover:before {color: black;}#sk-container-id-1 div.sk-estimator:hover label.sk-toggleable__label-arrow:before {color: black;}#sk-container-id-1 div.sk-toggleable__content {max-height: 0;max-width: 0;overflow: hidden;text-align: left;background-color: #f0f8ff;}#sk-container-id-1 div.sk-toggleable__content pre {margin: 0.2em;color: black;border-radius: 0.25em;background-color: #f0f8ff;}#sk-container-id-1 input.sk-toggleable__control:checked~div.sk-toggleable__content {max-height: 200px;max-width: 100%;overflow: auto;}#sk-container-id-1 input.sk-toggleable__control:checked~label.sk-toggleable__label-arrow:before {content: \"▾\";}#sk-container-id-1 div.sk-estimator input.sk-toggleable__control:checked~label.sk-toggleable__label {background-color: #d4ebff;}#sk-container-id-1 div.sk-label input.sk-toggleable__control:checked~label.sk-toggleable__label {background-color: #d4ebff;}#sk-container-id-1 input.sk-hidden--visually {border: 0;clip: rect(1px 1px 1px 1px);clip: rect(1px, 1px, 1px, 1px);height: 1px;margin: -1px;overflow: hidden;padding: 0;position: absolute;width: 1px;}#sk-container-id-1 div.sk-estimator {font-family: monospace;background-color: #f0f8ff;border: 1px dotted black;border-radius: 0.25em;box-sizing: border-box;margin-bottom: 0.5em;}#sk-container-id-1 div.sk-estimator:hover {background-color: #d4ebff;}#sk-container-id-1 div.sk-parallel-item::after {content: \"\";width: 100%;border-bottom: 1px solid gray;flex-grow: 1;}#sk-container-id-1 div.sk-label:hover label.sk-toggleable__label {background-color: #d4ebff;}#sk-container-id-1 div.sk-serial::before {content: \"\";position: absolute;border-left: 1px solid gray;box-sizing: border-box;top: 0;bottom: 0;left: 50%;z-index: 0;}#sk-container-id-1 div.sk-serial {display: flex;flex-direction: column;align-items: center;background-color: white;padding-right: 0.2em;padding-left: 0.2em;position: relative;}#sk-container-id-1 div.sk-item {position: relative;z-index: 1;}#sk-container-id-1 div.sk-parallel {display: flex;align-items: stretch;justify-content: center;background-color: white;position: relative;}#sk-container-id-1 div.sk-item::before, #sk-container-id-1 div.sk-parallel-item::before {content: \"\";position: absolute;border-left: 1px solid gray;box-sizing: border-box;top: 0;bottom: 0;left: 50%;z-index: -1;}#sk-container-id-1 div.sk-parallel-item {display: flex;flex-direction: column;z-index: 1;position: relative;background-color: white;}#sk-container-id-1 div.sk-parallel-item:first-child::after {align-self: flex-end;width: 50%;}#sk-container-id-1 div.sk-parallel-item:last-child::after {align-self: flex-start;width: 50%;}#sk-container-id-1 div.sk-parallel-item:only-child::after {width: 0;}#sk-container-id-1 div.sk-dashed-wrapped {border: 1px dashed gray;margin: 0 0.4em 0.5em 0.4em;box-sizing: border-box;padding-bottom: 0.4em;background-color: white;}#sk-container-id-1 div.sk-label label {font-family: monospace;font-weight: bold;display: inline-block;line-height: 1.2em;}#sk-container-id-1 div.sk-label-container {text-align: center;}#sk-container-id-1 div.sk-container {/* jupyter's `normalize.less` sets `[hidden] { display: none; }` but bootstrap.min.css set `[hidden] { display: none !important; }` so we also need the `!important` here to be able to override the default hidden behavior on the sphinx rendered scikit-learn.org. See: https://github.com/scikit-learn/scikit-learn/issues/21755 */display: inline-block !important;position: relative;}#sk-container-id-1 div.sk-text-repr-fallback {display: none;}</style><div id=\"sk-container-id-1\" class=\"sk-top-container\"><div class=\"sk-text-repr-fallback\"><pre>LinearRegression()</pre><b>In a Jupyter environment, please rerun this cell to show the HTML representation or trust the notebook. <br />On GitHub, the HTML representation is unable to render, please try loading this page with nbviewer.org.</b></div><div class=\"sk-container\" hidden><div class=\"sk-item\"><div class=\"sk-estimator sk-toggleable\"><input class=\"sk-toggleable__control sk-hidden--visually\" id=\"sk-estimator-id-1\" type=\"checkbox\" checked><label for=\"sk-estimator-id-1\" class=\"sk-toggleable__label sk-toggleable__label-arrow\">LinearRegression</label><div class=\"sk-toggleable__content\"><pre>LinearRegression()</pre></div></div></div></div></div>"
            ]
          },
          "metadata": {},
          "execution_count": 27
        }
      ]
    },
    {
      "cell_type": "code",
      "source": [
        "#corelating the model\n",
        "correlation=stock.corr()"
      ],
      "metadata": {
        "id": "Gt0liPrVjpn5",
        "colab": {
          "base_uri": "https://localhost:8080/"
        },
        "outputId": "5a34fa65-7725-4c0d-edc6-f817149fa410"
      },
      "execution_count": null,
      "outputs": [
        {
          "output_type": "stream",
          "name": "stderr",
          "text": [
            "<ipython-input-28-5adc6152fba7>:2: FutureWarning:\n",
            "\n",
            "The default value of numeric_only in DataFrame.corr is deprecated. In a future version, it will default to False. Select only valid columns or specify the value of numeric_only to silence this warning.\n",
            "\n"
          ]
        }
      ]
    },
    {
      "cell_type": "code",
      "source": [
        "#importing seaborn to visualize the data\n",
        "import seaborn as sns"
      ],
      "metadata": {
        "id": "QIkHPev3jiOQ"
      },
      "execution_count": null,
      "outputs": []
    },
    {
      "cell_type": "code",
      "source": [
        "#plotting the heatmap graph\n",
        "plt.figure(figsize=(10,10))\n",
        "sns.heatmap(correlation,cbar=True,square=True,fmt='.1f',annot=True,annot_kws={'size':8},cmap='Purples')"
      ],
      "metadata": {
        "id": "P_Op5glChU6T",
        "colab": {
          "base_uri": "https://localhost:8080/",
          "height": 829
        },
        "outputId": "e48a6325-2085-472d-d7c9-49c8d83f8061"
      },
      "execution_count": null,
      "outputs": [
        {
          "output_type": "execute_result",
          "data": {
            "text/plain": [
              "<Axes: >"
            ]
          },
          "metadata": {},
          "execution_count": 30
        },
        {
          "output_type": "display_data",
          "data": {
            "text/plain": [
              "<Figure size 1000x1000 with 2 Axes>"
            ],
            "image/png": "[encoded data removed]"
          },
          "metadata": {}
        }
      ]
    },
    {
      "cell_type": "code",
      "source": [
        "#importing metrics to evaluate the model\n",
        "from sklearn import metrics"
      ],
      "metadata": {
        "id": "LMeBlKTYkQXI"
      },
      "execution_count": null,
      "outputs": []
    },
    {
      "cell_type": "code",
      "source": [
        "#predicting the value for test data\n",
        "test_evaluation=lm.predict(x_test)\n",
        "#predicting the stock values\n",
        "print('It has predicticted for next days',len(test_evaluation))\n",
        "print(test_evaluation)\n"
      ],
      "metadata": {
        "id": "0CITU-QoiXpr",
        "colab": {
          "base_uri": "https://localhost:8080/"
        },
        "outputId": "cd90691d-adc0-46d5-aad3-eb41ec2be748"
      },
      "execution_count": null,
      "outputs": [
        {
          "output_type": "stream",
          "name": "stdout",
          "text": [
            "It has predicticted for next days 371\n",
            "[312.11754946 148.97257862 240.01543064 123.50604658 247.3370586\n",
            " 168.39080929 253.70369161 225.05384307 141.33261901 264.04947024\n",
            " 242.08458636 266.43695762 154.22505085 137.03514173 144.19760386\n",
            " 264.36780189 277.26023374 310.68505703 128.28102134 146.58509124\n",
            " 205.63561239 149.92757357 218.20971258 247.49622442 224.41717977\n",
            " 229.669652   318.00668499 255.61368151 144.99343299 212.79807453\n",
            " 271.53026403 138.94513163 200.86063764 234.60379258 171.41495997\n",
            " 215.98139103 181.28324113 145.63009629 213.43473783 197.99565278\n",
            " 194.65317045 140.53678988 236.99127996 151.67839764 282.03520849\n",
            " 287.1285149  250.83870675 294.29097703 315.30086596 316.73335839\n",
            " 196.40399453 209.61475802 284.26353005 148.17674949 127.32602639\n",
            " 196.2448287  165.68499026 255.93201316 170.14163337 180.64657783\n",
            " 179.21408541 204.36228579 222.66635569 186.69487919 317.37002169\n",
            " 201.97479841 261.02531956 141.65095066 300.81677587 179.53241706\n",
            " 318.32501664 185.73988424 257.04617393 223.46218482 295.40513781\n",
            " 233.64879763 163.61583454 246.063732   136.08014677 309.41173043\n",
            " 258.95616384 159.79585473 291.10766053 219.48303918 310.36672538\n",
            " 220.59719996 244.94957122 156.61253823 270.41610325 156.4533724\n",
            " 128.44018716 224.25801394 152.47422677 305.59175062 300.65761004\n",
            " 231.10214443 200.54230598 128.12185551 289.83433393 271.3710982\n",
            " 207.22727064 219.80137084 190.03736152 267.07362092 202.77062754\n",
            " 183.82989434 262.93530947 127.96268969 146.90342289 228.07799375\n",
            " 302.72676577 225.21300889 215.34472773 173.00661822 158.84085978\n",
            " 202.92979336 201.01980346 231.73880773 305.91008227 284.90019335\n",
            " 237.78710908 123.18771493 290.63016305 173.96161317 266.59612345\n",
            " 141.49178483 128.91768464 161.70584463 143.56094056 306.7059114\n",
            " 205.95394404 178.41825628 296.20096694 246.85956112 318.64334829\n",
            " 164.09333201 213.59390365 284.5818617  256.09117898 293.17681626\n",
            " 150.56423687 154.06588502 132.73766444 191.46985395 208.02309977\n",
            " 285.37769082 274.71358053 171.5741258  152.31506095 143.08344308\n",
            " 218.36887841 211.04725045 145.31176464 182.87489939 160.75084968\n",
            " 251.95286753 248.45121937 318.96167994 293.01765043 181.60157278\n",
            " 153.2700559  189.71902987 301.61260499 315.77836344 251.1570384\n",
            " 280.92104772 196.881492   247.17789277 127.64435804 162.82000541\n",
            " 174.120779   163.93416619 202.29313006 152.6333926  189.55986405\n",
            " 199.90564268 216.61805433 180.48741201 168.54997512 183.51156269\n",
            " 174.59827648 174.91660813 169.34580424 207.70476812 127.00769474\n",
            " 152.15589512 272.0077615  304.95508732 195.13066793 143.40177473\n",
            " 250.20204345 134.64765435 208.65976307 157.88586483 166.00332191\n",
            " 232.69380268 175.71243725 182.71573356 248.76955102 286.01435412\n",
            " 270.25693743 200.06480851 264.20863607 226.32716967 139.10429745\n",
            " 163.29750289 195.92649705 125.09770483 208.18226559 297.95179101\n",
            " 228.23715957 128.59935299 277.57856539 311.16255451 141.96928231\n",
            " 275.50940966 241.76625471 280.60271607 233.4896318  296.51929859\n",
            " 251.63453588 223.62135064 126.05269979 226.16800384 303.84092655\n",
            " 313.55004188 289.6751681  265.32279685 162.50167376 258.00116889\n",
            " 186.05821589 308.6159013  250.36120928 236.67294831 242.88041549\n",
            " 300.97594169 172.05162327 278.53356034 242.40291802 255.77284733\n",
            " 247.65539025 170.9374625  238.42377238 263.25364112 144.51593551\n",
            " 226.64550132 288.72017315 168.86830677 124.14270988 190.19652735\n",
            " 296.67846441 237.94627491 137.5126392  254.34035491 258.16033471\n",
            " 287.44684655 289.19767063 169.50497007 239.06043569 307.3425747\n",
            " 217.57304928 281.23937937 216.45888851 188.44570327 188.12737162\n",
            " 247.81455607 136.71681008 132.10100114 204.83978327 129.07685046\n",
            " 164.57082949 279.32938946 228.3963254  142.44677978 177.14492968\n",
            " 209.77392385 231.89797355 124.30187571 135.44348347 237.15044578\n",
            " 131.14600619 142.60594561 176.6674322  145.47093046 134.965986\n",
            " 160.91001551 211.52474792 223.30301899 250.67954093 131.94183532\n",
            " 227.12299879 291.58515801 209.93308967 179.37325123 268.02861587\n",
            " 231.42047608 259.75199296 308.93423295 262.29864617 296.36013276\n",
            " 283.78603257 132.89683027 254.81785238 144.67510134 297.63345936\n",
            " 139.58179493 299.70261509 245.26790287 285.53685665 257.84200306\n",
            " 151.04173434 176.18993473 264.84529937 229.0329887  166.79915104\n",
            " 232.8529685  176.82659803 296.83763024 134.01099105 187.96820579\n",
            " 315.14170014 253.0670283  140.85512153 162.34250793 184.30739181\n",
            " 155.1800458  264.52696772 198.15481861 274.23608306 222.82552151\n",
            " 300.18011257 246.7003953  213.9122353  133.53349357 129.87267959\n",
            " 247.01872695 125.73436814 179.69158288 313.39087606 228.87382287\n",
            " 221.71136074 223.14385316 217.89138093 143.24260891 201.65646676\n",
            " 234.28546093 259.59282714 226.96383297 156.93086988 297.47429354\n",
            " 305.75091645 130.82767454 197.51815531 266.2777918  182.55656774\n",
            " 147.22175454 198.79148191 175.23493978 161.54667881 175.87160308\n",
            " 261.34365122 293.49514791 263.57197277 140.21845823 194.17567298\n",
            " 291.74432383 204.20311996 145.15259881 170.61913085 133.0559961\n",
            " 306.0692481 ]\n"
          ]
        }
      ]
    },
    {
      "cell_type": "code",
      "source": [
        "#plotting the graph for actual and predicted values\n",
        "plt.figure(figsize=(5,5))\n",
        "plt.scatter(y_test,test_evaluation, c='crimson')\n",
        "plt.yscale('log')\n",
        "plt.xscale('log')\n",
        "p1 = max(max(test_evaluation), max(y_test))\n",
        "p2 = min(min(test_evaluation), min(y_test))\n",
        "plt.plot([p1, p2], [p1, p2], 'b-')\n",
        "plt.xlabel('True Values', fontsize=15)\n",
        "plt.ylabel('Predictions', fontsize=15)\n",
        "plt.axis('equal')\n",
        "plt.show()"
      ],
      "metadata": {
        "colab": {
          "base_uri": "https://localhost:8080/",
          "height": 475
        },
        "id": "KnbpEe9GoHPw",
        "outputId": "f2d000ae-836a-44f7-eb6c-57b1587ead28"
      },
      "execution_count": null,
      "outputs": [
        {
          "output_type": "display_data",
          "data": {
            "text/plain": [
              "<Figure size 500x500 with 1 Axes>"
            ],
            "image/png": "[encoded data removed]"
          },
          "metadata": {}
        }
      ]
    },
    {
      "cell_type": "code",
      "source": [
        "#evaluation of metrics score\n",
        "scores=f'''\n",
        "{'Metric'.ljust(10)}{'Train'.center(20)}{'Test'.center(20)}\n",
        "{'r2_score'.ljust(10)}{r2_score(y_train,lm.predict(x_train))}\\t{r2_score(y_test,lm.predict(x_test))}\n",
        "{'MSE'.ljust(10)}{metrics.mean_squared_error(y_train,lm.predict(x_train))}\\t{metrics.mean_squared_error(y_test,lm.predict(x_test))}\n",
        "'''\n",
        "print(scores)"
      ],
      "metadata": {
        "colab": {
          "base_uri": "https://localhost:8080/"
        },
        "id": "JPV8PrYvlgaS",
        "outputId": "91f05cd9-4afe-4de4-c48c-e14ede3fedb9"
      },
      "execution_count": null,
      "outputs": [
        {
          "output_type": "stream",
          "name": "stdout",
          "text": [
            "\n",
            "Metric           Train                Test        \n",
            "r2_score  0.42926620750889843\t0.3781688078665296\n",
            "MSE       4228.497189428406\t3941.5374006673173\n",
            "\n"
          ]
        }
      ]
    },
    {
      "cell_type": "markdown",
      "source": [
        "The accuracy score for the given company stock is very inaccurate .\n",
        "To find  the accuracy score of the company  stock value LSTM model is used."
      ],
      "metadata": {
        "id": "5pxaUFBmz56U"
      }
    },
    {
      "cell_type": "code",
      "source": [
        "import numpy as np\n",
        "import pandas as pd\n",
        "import matplotlib.pyplot as plt\n",
        "from sklearn.preprocessing import MinMaxScaler\n",
        "from keras.models import Sequential\n",
        "from keras.layers import LSTM, Dense\n",
        "\n"
      ],
      "metadata": {
        "id": "tcz5d-9H_H9z"
      },
      "execution_count": null,
      "outputs": []
    },
    {
      "cell_type": "code",
      "source": [
        "# Load the stock price data\n",
        "df = pd.read_csv('/content/VEDL.NS.csv')\n",
        "df.tail()"
      ],
      "metadata": {
        "id": "0aCe3nK8Agcs",
        "colab": {
          "base_uri": "https://localhost:8080/",
          "height": 206
        },
        "outputId": "e332f0e2-fb18-4f85-c79d-2937e9c9c5f5"
      },
      "execution_count": null,
      "outputs": [
        {
          "output_type": "execute_result",
          "data": {
            "text/plain": [
              "            Date        Open        High         Low       Close   Adj Close  \\\n",
              "1229  2023-06-20  279.000000  284.350006  279.000000  282.649994  282.649994   \n",
              "1230  2023-06-21  282.649994  283.149994  280.299988  281.250000  281.250000   \n",
              "1231  2023-06-22  282.000000  282.850006  279.000000  280.649994  280.649994   \n",
              "1232  2023-06-23  280.850006  280.850006  275.899994  276.200012  276.200012   \n",
              "1233  2023-06-26  276.200012  280.649994  274.299988  279.799988  279.799988   \n",
              "\n",
              "       Volume  \n",
              "1229  5600444  \n",
              "1230  3186136  \n",
              "1231  3205576  \n",
              "1232  5178936  \n",
              "1233  4184383  "
            ],
            "text/html": [
              "\n",
              "\n",
              "  <div id=\"df-81d46c54-8054-4fff-b072-9d5674285d00\">\n",
              "    <div class=\"colab-df-container\">\n",
              "      <div>\n",
              "<style scoped>\n",
              "    .dataframe tbody tr th:only-of-type {\n",
              "        vertical-align: middle;\n",
              "    }\n",
              "\n",
              "    .dataframe tbody tr th {\n",
              "        vertical-align: top;\n",
              "    }\n",
              "\n",
              "    .dataframe thead th {\n",
              "        text-align: right;\n",
              "    }\n",
              "</style>\n",
              "<table border=\"1\" class=\"dataframe\">\n",
              "  <thead>\n",
              "    <tr style=\"text-align: right;\">\n",
              "      <th></th>\n",
              "      <th>Date</th>\n",
              "      <th>Open</th>\n",
              "      <th>High</th>\n",
              "      <th>Low</th>\n",
              "      <th>Close</th>\n",
              "      <th>Adj Close</th>\n",
              "      <th>Volume</th>\n",
              "    </tr>\n",
              "  </thead>\n",
              "  <tbody>\n",
              "    <tr>\n",
              "      <th>1229</th>\n",
              "      <td>2023-06-20</td>\n",
              "      <td>279.000000</td>\n",
              "      <td>284.350006</td>\n",
              "      <td>279.000000</td>\n",
              "      <td>282.649994</td>\n",
              "      <td>282.649994</td>\n",
              "      <td>5600444</td>\n",
              "    </tr>\n",
              "    <tr>\n",
              "      <th>1230</th>\n",
              "      <td>2023-06-21</td>\n",
              "      <td>282.649994</td>\n",
              "      <td>283.149994</td>\n",
              "      <td>280.299988</td>\n",
              "      <td>281.250000</td>\n",
              "      <td>281.250000</td>\n",
              "      <td>3186136</td>\n",
              "    </tr>\n",
              "    <tr>\n",
              "      <th>1231</th>\n",
              "      <td>2023-06-22</td>\n",
              "      <td>282.000000</td>\n",
              "      <td>282.850006</td>\n",
              "      <td>279.000000</td>\n",
              "      <td>280.649994</td>\n",
              "      <td>280.649994</td>\n",
              "      <td>3205576</td>\n",
              "    </tr>\n",
              "    <tr>\n",
              "      <th>1232</th>\n",
              "      <td>2023-06-23</td>\n",
              "      <td>280.850006</td>\n",
              "      <td>280.850006</td>\n",
              "      <td>275.899994</td>\n",
              "      <td>276.200012</td>\n",
              "      <td>276.200012</td>\n",
              "      <td>5178936</td>\n",
              "    </tr>\n",
              "    <tr>\n",
              "      <th>1233</th>\n",
              "      <td>2023-06-26</td>\n",
              "      <td>276.200012</td>\n",
              "      <td>280.649994</td>\n",
              "      <td>274.299988</td>\n",
              "      <td>279.799988</td>\n",
              "      <td>279.799988</td>\n",
              "      <td>4184383</td>\n",
              "    </tr>\n",
              "  </tbody>\n",
              "</table>\n",
              "</div>\n",
              "      <button class=\"colab-df-convert\" onclick=\"convertToInteractive('df-81d46c54-8054-4fff-b072-9d5674285d00')\"\n",
              "              title=\"Convert this dataframe to an interactive table.\"\n",
              "              style=\"display:none;\">\n",
              "\n",
              "  <svg xmlns=\"http://www.w3.org/2000/svg\" height=\"24px\"viewBox=\"0 0 24 24\"\n",
              "       width=\"24px\">\n",
              "    <path d=\"M0 0h24v24H0V0z\" fill=\"none\"/>\n",
              "    <path d=\"M18.56 5.44l.94 2.06.94-2.06 2.06-.94-2.06-.94-.94-2.06-.94 2.06-2.06.94zm-11 1L8.5 8.5l.94-2.06 2.06-.94-2.06-.94L8.5 2.5l-.94 2.06-2.06.94zm10 10l.94 2.06.94-2.06 2.06-.94-2.06-.94-.94-2.06-.94 2.06-2.06.94z\"/><path d=\"M17.41 7.96l-1.37-1.37c-.4-.4-.92-.59-1.43-.59-.52 0-1.04.2-1.43.59L10.3 9.45l-7.72 7.72c-.78.78-.78 2.05 0 2.83L4 21.41c.39.39.9.59 1.41.59.51 0 1.02-.2 1.41-.59l7.78-7.78 2.81-2.81c.8-.78.8-2.07 0-2.86zM5.41 20L4 18.59l7.72-7.72 1.47 1.35L5.41 20z\"/>\n",
              "  </svg>\n",
              "      </button>\n",
              "\n",
              "\n",
              "\n",
              "    <div id=\"df-2698bb0e-1b2e-4cc2-916d-c09b72a5a4cf\">\n",
              "      <button class=\"colab-df-quickchart\" onclick=\"quickchart('df-2698bb0e-1b2e-4cc2-916d-c09b72a5a4cf')\"\n",
              "              title=\"Suggest charts.\"\n",
              "              style=\"display:none;\">\n",
              "\n",
              "<svg xmlns=\"http://www.w3.org/2000/svg\" height=\"24px\"viewBox=\"0 0 24 24\"\n",
              "     width=\"24px\">\n",
              "    <g>\n",
              "        <path d=\"M19 3H5c-1.1 0-2 .9-2 2v14c0 1.1.9 2 2 2h14c1.1 0 2-.9 2-2V5c0-1.1-.9-2-2-2zM9 17H7v-7h2v7zm4 0h-2V7h2v10zm4 0h-2v-4h2v4z\"/>\n",
              "    </g>\n",
              "</svg>\n",
              "      </button>\n",
              "    </div>\n",
              "\n",
              "<style>\n",
              "  .colab-df-quickchart {\n",
              "    background-color: #E8F0FE;\n",
              "    border: none;\n",
              "    border-radius: 50%;\n",
              "    cursor: pointer;\n",
              "    display: none;\n",
              "    fill: #1967D2;\n",
              "    height: 32px;\n",
              "    padding: 0 0 0 0;\n",
              "    width: 32px;\n",
              "  }\n",
              "\n",
              "  .colab-df-quickchart:hover {\n",
              "    background-color: #E2EBFA;\n",
              "    box-shadow: 0px 1px 2px rgba(60, 64, 67, 0.3), 0px 1px 3px 1px rgba(60, 64, 67, 0.15);\n",
              "    fill: #174EA6;\n",
              "  }\n",
              "\n",
              "  [theme=dark] .colab-df-quickchart {\n",
              "    background-color: #3B4455;\n",
              "    fill: #D2E3FC;\n",
              "  }\n",
              "\n",
              "  [theme=dark] .colab-df-quickchart:hover {\n",
              "    background-color: #434B5C;\n",
              "    box-shadow: 0px 1px 3px 1px rgba(0, 0, 0, 0.15);\n",
              "    filter: drop-shadow(0px 1px 2px rgba(0, 0, 0, 0.3));\n",
              "    fill: #FFFFFF;\n",
              "  }\n",
              "</style>\n",
              "\n",
              "    <script>\n",
              "      async function quickchart(key) {\n",
              "        const containerElement = document.querySelector('#' + key);\n",
              "        const charts = await google.colab.kernel.invokeFunction(\n",
              "            'suggestCharts', [key], {});\n",
              "      }\n",
              "    </script>\n",
              "\n",
              "      <script>\n",
              "\n",
              "function displayQuickchartButton(domScope) {\n",
              "  let quickchartButtonEl =\n",
              "    domScope.querySelector('#df-2698bb0e-1b2e-4cc2-916d-c09b72a5a4cf button.colab-df-quickchart');\n",
              "  quickchartButtonEl.style.display =\n",
              "    google.colab.kernel.accessAllowed ? 'block' : 'none';\n",
              "}\n",
              "\n",
              "        displayQuickchartButton(document);\n",
              "      </script>\n",
              "      <style>\n",
              "    .colab-df-container {\n",
              "      display:flex;\n",
              "      flex-wrap:wrap;\n",
              "      gap: 12px;\n",
              "    }\n",
              "\n",
              "    .colab-df-convert {\n",
              "      background-color: #E8F0FE;\n",
              "      border: none;\n",
              "      border-radius: 50%;\n",
              "      cursor: pointer;\n",
              "      display: none;\n",
              "      fill: #1967D2;\n",
              "      height: 32px;\n",
              "      padding: 0 0 0 0;\n",
              "      width: 32px;\n",
              "    }\n",
              "\n",
              "    .colab-df-convert:hover {\n",
              "      background-color: #E2EBFA;\n",
              "      box-shadow: 0px 1px 2px rgba(60, 64, 67, 0.3), 0px 1px 3px 1px rgba(60, 64, 67, 0.15);\n",
              "      fill: #174EA6;\n",
              "    }\n",
              "\n",
              "    [theme=dark] .colab-df-convert {\n",
              "      background-color: #3B4455;\n",
              "      fill: #D2E3FC;\n",
              "    }\n",
              "\n",
              "    [theme=dark] .colab-df-convert:hover {\n",
              "      background-color: #434B5C;\n",
              "      box-shadow: 0px 1px 3px 1px rgba(0, 0, 0, 0.15);\n",
              "      filter: drop-shadow(0px 1px 2px rgba(0, 0, 0, 0.3));\n",
              "      fill: #FFFFFF;\n",
              "    }\n",
              "  </style>\n",
              "\n",
              "      <script>\n",
              "        const buttonEl =\n",
              "          document.querySelector('#df-81d46c54-8054-4fff-b072-9d5674285d00 button.colab-df-convert');\n",
              "        buttonEl.style.display =\n",
              "          google.colab.kernel.accessAllowed ? 'block' : 'none';\n",
              "\n",
              "        async function convertToInteractive(key) {\n",
              "          const element = document.querySelector('#df-81d46c54-8054-4fff-b072-9d5674285d00');\n",
              "          const dataTable =\n",
              "            await google.colab.kernel.invokeFunction('convertToInteractive',\n",
              "                                                     [key], {});\n",
              "          if (!dataTable) return;\n",
              "\n",
              "          const docLinkHtml = 'Like what you see? Visit the ' +\n",
              "            '<a target=\"_blank\" href=https://colab.research.google.com/notebooks/data_table.ipynb>data table notebook</a>'\n",
              "            + ' to learn more about interactive tables.';\n",
              "          element.innerHTML = '';\n",
              "          dataTable['output_type'] = 'display_data';\n",
              "          await google.colab.output.renderOutput(dataTable, element);\n",
              "          const docLink = document.createElement('div');\n",
              "          docLink.innerHTML = docLinkHtml;\n",
              "          element.appendChild(docLink);\n",
              "        }\n",
              "      </script>\n",
              "    </div>\n",
              "  </div>\n"
            ]
          },
          "metadata": {},
          "execution_count": 36
        }
      ]
    },
    {
      "cell_type": "code",
      "source": [
        "# Extract the 'Close' price values\n",
        "data = df['Close'].values.reshape(-1, 1)"
      ],
      "metadata": {
        "id": "560rUYTMAi_s"
      },
      "execution_count": null,
      "outputs": []
    },
    {
      "cell_type": "code",
      "source": [
        "# Normalize the data\n",
        "scaler = MinMaxScaler(feature_range=(0, 1))\n",
        "data = scaler.fit_transform(data)\n"
      ],
      "metadata": {
        "id": "aRDy2GcfAmbf"
      },
      "execution_count": null,
      "outputs": []
    },
    {
      "cell_type": "code",
      "source": [
        "# Split the data into training and testing sets\n",
        "train_size = int(len(data) * 0.8)\n",
        "train_data = data[:train_size]\n",
        "test_data = data[train_size:]"
      ],
      "metadata": {
        "id": "JaxHPgvXAplS"
      },
      "execution_count": null,
      "outputs": []
    },
    {
      "cell_type": "code",
      "source": [
        "# Create sequences for training\n",
        "def create_sequences(data, seq_length):\n",
        "    X = []\n",
        "    y = []\n",
        "    for i in range(len(data) - seq_length):\n",
        "        X.append(data[i:i+seq_length])\n",
        "        y.append(data[i+seq_length])\n",
        "    return np.array(X), np.array(y)\n",
        "\n",
        "seq_length = 20\n",
        "X_train, y_train = create_sequences(train_data, seq_length)\n",
        "X_test, y_test = create_sequences(test_data, seq_length)"
      ],
      "metadata": {
        "id": "Gzo4P_ARAt51"
      },
      "execution_count": null,
      "outputs": []
    },
    {
      "cell_type": "code",
      "source": [
        "# Build the LSTM model\n",
        "model = Sequential()\n",
        "model.add(LSTM(units=50, return_sequences=True, input_shape=(seq_length, 1)))\n",
        "model.add(LSTM(units=50))\n",
        "model.add(Dense(units=1))\n",
        "model.compile(optimizer='adam', loss='mean_squared_error')\n",
        "model.fit(X_train, y_train, epochs=10, batch_size=32)\n"
      ],
      "metadata": {
        "id": "PK3UEmjeAx6r",
        "colab": {
          "base_uri": "https://localhost:8080/"
        },
        "outputId": "20375d39-3cb6-4b5d-f91b-618b429c0301"
      },
      "execution_count": null,
      "outputs": [
        {
          "output_type": "stream",
          "name": "stdout",
          "text": [
            "Epoch 1/10\n",
            "31/31 [==============================] - 7s 39ms/step - loss: 0.0434\n",
            "Epoch 2/10\n",
            "31/31 [==============================] - 1s 38ms/step - loss: 0.0036\n",
            "Epoch 3/10\n",
            "31/31 [==============================] - 1s 38ms/step - loss: 0.0020\n",
            "Epoch 4/10\n",
            "31/31 [==============================] - 1s 38ms/step - loss: 0.0018\n",
            "Epoch 5/10\n",
            "31/31 [==============================] - 1s 38ms/step - loss: 0.0018\n",
            "Epoch 6/10\n",
            "31/31 [==============================] - 1s 47ms/step - loss: 0.0017\n",
            "Epoch 7/10\n",
            "31/31 [==============================] - 2s 64ms/step - loss: 0.0016\n",
            "Epoch 8/10\n",
            "31/31 [==============================] - 1s 23ms/step - loss: 0.0015\n",
            "Epoch 9/10\n",
            "31/31 [==============================] - 1s 23ms/step - loss: 0.0015\n",
            "Epoch 10/10\n",
            "31/31 [==============================] - 1s 22ms/step - loss: 0.0015\n"
          ]
        },
        {
          "output_type": "execute_result",
          "data": {
            "text/plain": [
              "<keras.callbacks.History at 0x7c762aeda6b0>"
            ]
          },
          "metadata": {},
          "execution_count": 41
        }
      ]
    },
    {
      "cell_type": "code",
      "source": [
        "# Make predictions on the test data\n",
        "predictions = model.predict(X_test)\n",
        "predictions = scaler.inverse_transform(predictions)\n",
        "y_test = scaler.inverse_transform(y_test)"
      ],
      "metadata": {
        "id": "absVaZ9KA6Qn",
        "colab": {
          "base_uri": "https://localhost:8080/"
        },
        "outputId": "23449a58-3cdf-439f-f935-96acb9d22bf1"
      },
      "execution_count": null,
      "outputs": [
        {
          "output_type": "stream",
          "name": "stdout",
          "text": [
            "8/8 [==============================] - 1s 7ms/step\n"
          ]
        }
      ]
    },
    {
      "cell_type": "code",
      "source": [
        "#Calculate the root mean squared error (RMSE)\n",
        "rmse = np.sqrt(np.mean((predictions - y_test)**2))\n",
        "print(\"Root Mean Squared Error:\", rmse)\n"
      ],
      "metadata": {
        "colab": {
          "base_uri": "https://localhost:8080/"
        },
        "id": "habwF94dA9HL",
        "outputId": "cefe6cea-65a6-44b5-c3bb-fe1d81fe8bde"
      },
      "execution_count": null,
      "outputs": [
        {
          "output_type": "stream",
          "name": "stdout",
          "text": [
            "Root Mean Squared Error: 10.397186059796278\n"
          ]
        }
      ]
    },
    {
      "cell_type": "code",
      "source": [
        "# Predict the stock price for the next day\n",
        "last_sequence = test_data[-seq_length:]\n",
        "next_day = model.predict(np.array([last_sequence]))\n",
        "next_day = scaler.inverse_transform(next_day)\n",
        "print(\"Predicted Stock Price for Next Day:\", next_day)\n"
      ],
      "metadata": {
        "colab": {
          "base_uri": "https://localhost:8080/"
        },
        "id": "b4fW9gZ8BBfo",
        "outputId": "f8ed9775-171c-4d71-8fab-d98f19302d8c"
      },
      "execution_count": null,
      "outputs": [
        {
          "output_type": "stream",
          "name": "stdout",
          "text": [
            "1/1 [==============================] - 0s 35ms/step\n",
            "Predicted Stock Price for Next Day: [[277.39233]]\n"
          ]
        }
      ]
    },
    {
      "cell_type": "code",
      "source": [
        "# Find the date of the predicted price\n",
        "last_date = df['Date'].values[-1]\n",
        "next_date = pd.to_datetime(last_date) + pd.DateOffset(days=1)\n",
        "print(\"Date of the Predicted Price:\", next_date.date())"
      ],
      "metadata": {
        "colab": {
          "base_uri": "https://localhost:8080/"
        },
        "id": "kBR1PjZ3DJYf",
        "outputId": "1a75f252-6757-4c01-df98-1f0ba210f2eb"
      },
      "execution_count": null,
      "outputs": [
        {
          "output_type": "stream",
          "name": "stdout",
          "text": [
            "Date of the Predicted Price: 2023-06-27\n"
          ]
        }
      ]
    },
    {
      "cell_type": "code",
      "source": [
        "from sklearn.metrics import accuracy_score\n"
      ],
      "metadata": {
        "id": "MD6bJTFkGfT8"
      },
      "execution_count": null,
      "outputs": []
    },
    {
      "cell_type": "code",
      "source": [
        "# Define the threshold for predicting price increase or decrease\n",
        "threshold = 0.0\n",
        "\n",
        "# Convert the price difference to binary values (increase or decrease)\n",
        "y_test_direction = np.where(y_test[:-1] - y_test[1:] > threshold, 1, 0)\n",
        "predictions_direction = np.where(predictions[:-1] - predictions[1:] > threshold, 1, 0)\n",
        "\n",
        "# Calculate the accuracy score\n",
        "accuracy = accuracy_score(y_test_direction, predictions_direction)\n",
        "print(\"Accuracy Score:\", accuracy)"
      ],
      "metadata": {
        "id": "59x_WgWFGXDn",
        "colab": {
          "base_uri": "https://localhost:8080/"
        },
        "outputId": "05e6144a-f70f-4075-ae5e-2f58cfbf500a"
      },
      "execution_count": null,
      "outputs": [
        {
          "output_type": "stream",
          "name": "stdout",
          "text": [
            "Accuracy Score: 0.47345132743362833\n"
          ]
        }
      ]
    }
  ]
}